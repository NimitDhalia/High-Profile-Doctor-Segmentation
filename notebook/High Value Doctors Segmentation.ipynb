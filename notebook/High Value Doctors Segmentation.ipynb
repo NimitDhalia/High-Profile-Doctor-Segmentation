{
 "cells": [
  {
   "cell_type": "code",
   "execution_count": 2,
   "metadata": {
    "collapsed": true
   },
   "outputs": [],
   "source": [
    "import numpy as np\n",
    "import pandas as pd\n",
    "import seaborn as sns\n",
    "import matplotlib.pyplot as plt\n",
    "from sklearn import preprocessing\n",
    "%matplotlib inline"
   ]
  },
  {
   "cell_type": "code",
   "execution_count": 3,
   "metadata": {},
   "outputs": [
    {
     "name": "stderr",
     "output_type": "stream",
     "text": [
      "/Users/aniketchaudhary/anaconda3/lib/python3.6/site-packages/IPython/core/interactiveshell.py:2698: DtypeWarning: Columns (7) have mixed types. Specify dtype option on import or set low_memory=False.\n",
      "  interactivity=interactivity, compiler=compiler, result=result)\n"
     ]
    }
   ],
   "source": [
    "data = pd.read_csv('../data/data.csv')"
   ]
  },
  {
   "cell_type": "code",
   "execution_count": 4,
   "metadata": {},
   "outputs": [],
   "source": [
    "pd.options.display.max_columns=50"
   ]
  },
  {
   "cell_type": "code",
   "execution_count": 5,
   "metadata": {
    "collapsed": true
   },
   "outputs": [],
   "source": [
    "#####################explore the data - descriptive statistics#####################"
   ]
  },
  {
   "cell_type": "code",
   "execution_count": 6,
   "metadata": {},
   "outputs": [
    {
     "data": {
      "text/html": [
       "<div>\n",
       "<style>\n",
       "    .dataframe thead tr:only-child th {\n",
       "        text-align: right;\n",
       "    }\n",
       "\n",
       "    .dataframe thead th {\n",
       "        text-align: left;\n",
       "    }\n",
       "\n",
       "    .dataframe tbody tr th {\n",
       "        vertical-align: top;\n",
       "    }\n",
       "</style>\n",
       "<table border=\"1\" class=\"dataframe\">\n",
       "  <thead>\n",
       "    <tr style=\"text-align: right;\">\n",
       "      <th></th>\n",
       "      <th>ID</th>\n",
       "      <th>State</th>\n",
       "      <th>Region</th>\n",
       "      <th>Division</th>\n",
       "      <th>Group_Name</th>\n",
       "      <th>MSA_Population_Size</th>\n",
       "      <th>GENDER_CODE</th>\n",
       "      <th>PRESUMED_DEAD_FLAG</th>\n",
       "      <th>Primary_TOP</th>\n",
       "      <th>Primary_PE</th>\n",
       "      <th>Primary_AD</th>\n",
       "      <th>Secondary</th>\n",
       "      <th>RX_Restriction_Indicator</th>\n",
       "      <th>customer_id</th>\n",
       "      <th>ID2</th>\n",
       "      <th>MyProd1_Rx</th>\n",
       "      <th>MyProd2_Rx</th>\n",
       "      <th>CompProd1_Rx</th>\n",
       "      <th>CompProd2_Rx</th>\n",
       "      <th>CompProd3_Rx</th>\n",
       "      <th>Age</th>\n",
       "      <th>TOP</th>\n",
       "      <th>PE</th>\n",
       "      <th>SPECIAlITY</th>\n",
       "      <th>YrsPractice</th>\n",
       "      <th>Ignore1</th>\n",
       "      <th>Ignore2</th>\n",
       "      <th>Ignore3</th>\n",
       "      <th>Ignore4</th>\n",
       "      <th>Ignore5</th>\n",
       "      <th>Ignore6</th>\n",
       "    </tr>\n",
       "  </thead>\n",
       "  <tbody>\n",
       "    <tr>\n",
       "      <th>0</th>\n",
       "      <td>10259059.0</td>\n",
       "      <td>AL</td>\n",
       "      <td>3.0</td>\n",
       "      <td>6.0</td>\n",
       "      <td>1.0</td>\n",
       "      <td>1.0</td>\n",
       "      <td>1.0</td>\n",
       "      <td>NaN</td>\n",
       "      <td>20.0</td>\n",
       "      <td>30.0</td>\n",
       "      <td>FM</td>\n",
       "      <td>GS</td>\n",
       "      <td>NaN</td>\n",
       "      <td>326</td>\n",
       "      <td>326</td>\n",
       "      <td>0.0</td>\n",
       "      <td>0.282792</td>\n",
       "      <td>11.4531</td>\n",
       "      <td>17.9303</td>\n",
       "      <td>4.8554</td>\n",
       "      <td>89.0</td>\n",
       "      <td>20</td>\n",
       "      <td>30</td>\n",
       "      <td>FM</td>\n",
       "      <td>57.0</td>\n",
       "      <td>0.0</td>\n",
       "      <td>0.282792</td>\n",
       "      <td>11.4531</td>\n",
       "      <td>17.9303</td>\n",
       "      <td>4.8554</td>\n",
       "      <td>0.282792</td>\n",
       "    </tr>\n",
       "    <tr>\n",
       "      <th>1</th>\n",
       "      <td>10261004.0</td>\n",
       "      <td>AL</td>\n",
       "      <td>3.0</td>\n",
       "      <td>6.0</td>\n",
       "      <td>6.0</td>\n",
       "      <td>3.0</td>\n",
       "      <td>1.0</td>\n",
       "      <td>NaN</td>\n",
       "      <td>20.0</td>\n",
       "      <td>30.0</td>\n",
       "      <td>IM</td>\n",
       "      <td>HEM</td>\n",
       "      <td>NaN</td>\n",
       "      <td>355</td>\n",
       "      <td>355</td>\n",
       "      <td>0.0</td>\n",
       "      <td>0.000000</td>\n",
       "      <td>16.8683</td>\n",
       "      <td>20.1757</td>\n",
       "      <td>2.3040</td>\n",
       "      <td>80.0</td>\n",
       "      <td>20</td>\n",
       "      <td>30</td>\n",
       "      <td>IM</td>\n",
       "      <td>55.0</td>\n",
       "      <td>0.0</td>\n",
       "      <td>0.000000</td>\n",
       "      <td>16.8683</td>\n",
       "      <td>20.1757</td>\n",
       "      <td>2.3040</td>\n",
       "      <td>0.000000</td>\n",
       "    </tr>\n",
       "    <tr>\n",
       "      <th>2</th>\n",
       "      <td>10263002.0</td>\n",
       "      <td>TN</td>\n",
       "      <td>3.0</td>\n",
       "      <td>6.0</td>\n",
       "      <td>1.0</td>\n",
       "      <td>1.0</td>\n",
       "      <td>1.0</td>\n",
       "      <td>NaN</td>\n",
       "      <td>71.0</td>\n",
       "      <td>11.0</td>\n",
       "      <td>EM</td>\n",
       "      <td>PS</td>\n",
       "      <td>NaN</td>\n",
       "      <td>412</td>\n",
       "      <td>412</td>\n",
       "      <td>0.0</td>\n",
       "      <td>0.000000</td>\n",
       "      <td>25.6941</td>\n",
       "      <td>6.0275</td>\n",
       "      <td>0.0000</td>\n",
       "      <td>78.0</td>\n",
       "      <td>71</td>\n",
       "      <td>11</td>\n",
       "      <td>Other</td>\n",
       "      <td>53.0</td>\n",
       "      <td>0.0</td>\n",
       "      <td>0.000000</td>\n",
       "      <td>25.6941</td>\n",
       "      <td>6.0275</td>\n",
       "      <td>0.0000</td>\n",
       "      <td>0.000000</td>\n",
       "    </tr>\n",
       "    <tr>\n",
       "      <th>3</th>\n",
       "      <td>10265022.0</td>\n",
       "      <td>AL</td>\n",
       "      <td>3.0</td>\n",
       "      <td>6.0</td>\n",
       "      <td>1.0</td>\n",
       "      <td>1.0</td>\n",
       "      <td>1.0</td>\n",
       "      <td>NaN</td>\n",
       "      <td>20.0</td>\n",
       "      <td>30.0</td>\n",
       "      <td>FM</td>\n",
       "      <td>US</td>\n",
       "      <td>NaN</td>\n",
       "      <td>479</td>\n",
       "      <td>479</td>\n",
       "      <td>0.0</td>\n",
       "      <td>0.000000</td>\n",
       "      <td>20.6320</td>\n",
       "      <td>5.6000</td>\n",
       "      <td>2.9553</td>\n",
       "      <td>78.0</td>\n",
       "      <td>20</td>\n",
       "      <td>30</td>\n",
       "      <td>FM</td>\n",
       "      <td>51.0</td>\n",
       "      <td>0.0</td>\n",
       "      <td>0.000000</td>\n",
       "      <td>20.6320</td>\n",
       "      <td>5.6000</td>\n",
       "      <td>2.9553</td>\n",
       "      <td>0.000000</td>\n",
       "    </tr>\n",
       "    <tr>\n",
       "      <th>4</th>\n",
       "      <td>NaN</td>\n",
       "      <td>NaN</td>\n",
       "      <td>NaN</td>\n",
       "      <td>NaN</td>\n",
       "      <td>NaN</td>\n",
       "      <td>NaN</td>\n",
       "      <td>NaN</td>\n",
       "      <td>NaN</td>\n",
       "      <td>NaN</td>\n",
       "      <td>NaN</td>\n",
       "      <td>NaN</td>\n",
       "      <td>NaN</td>\n",
       "      <td>NaN</td>\n",
       "      <td>486</td>\n",
       "      <td>486</td>\n",
       "      <td>0.0</td>\n",
       "      <td>0.000000</td>\n",
       "      <td>35.0081</td>\n",
       "      <td>8.4561</td>\n",
       "      <td>0.0000</td>\n",
       "      <td>NaN</td>\n",
       "      <td>0</td>\n",
       "      <td>0</td>\n",
       "      <td>Other</td>\n",
       "      <td>NaN</td>\n",
       "      <td>0.0</td>\n",
       "      <td>0.000000</td>\n",
       "      <td>35.0081</td>\n",
       "      <td>8.4561</td>\n",
       "      <td>0.0000</td>\n",
       "      <td>0.000000</td>\n",
       "    </tr>\n",
       "  </tbody>\n",
       "</table>\n",
       "</div>"
      ],
      "text/plain": [
       "           ID State  Region  Division  Group_Name  MSA_Population_Size  \\\n",
       "0  10259059.0    AL     3.0       6.0         1.0                  1.0   \n",
       "1  10261004.0    AL     3.0       6.0         6.0                  3.0   \n",
       "2  10263002.0    TN     3.0       6.0         1.0                  1.0   \n",
       "3  10265022.0    AL     3.0       6.0         1.0                  1.0   \n",
       "4         NaN   NaN     NaN       NaN         NaN                  NaN   \n",
       "\n",
       "   GENDER_CODE PRESUMED_DEAD_FLAG  Primary_TOP  Primary_PE Primary_AD  \\\n",
       "0          1.0                NaN         20.0        30.0         FM   \n",
       "1          1.0                NaN         20.0        30.0         IM   \n",
       "2          1.0                NaN         71.0        11.0         EM   \n",
       "3          1.0                NaN         20.0        30.0         FM   \n",
       "4          NaN                NaN          NaN         NaN        NaN   \n",
       "\n",
       "  Secondary RX_Restriction_Indicator  customer_id  ID2  MyProd1_Rx  \\\n",
       "0        GS                      NaN          326  326         0.0   \n",
       "1       HEM                      NaN          355  355         0.0   \n",
       "2        PS                      NaN          412  412         0.0   \n",
       "3        US                      NaN          479  479         0.0   \n",
       "4       NaN                      NaN          486  486         0.0   \n",
       "\n",
       "   MyProd2_Rx  CompProd1_Rx  CompProd2_Rx  CompProd3_Rx   Age  TOP  PE  \\\n",
       "0    0.282792       11.4531       17.9303        4.8554  89.0   20  30   \n",
       "1    0.000000       16.8683       20.1757        2.3040  80.0   20  30   \n",
       "2    0.000000       25.6941        6.0275        0.0000  78.0   71  11   \n",
       "3    0.000000       20.6320        5.6000        2.9553  78.0   20  30   \n",
       "4    0.000000       35.0081        8.4561        0.0000   NaN    0   0   \n",
       "\n",
       "  SPECIAlITY  YrsPractice  Ignore1   Ignore2  Ignore3  Ignore4  Ignore5  \\\n",
       "0         FM         57.0      0.0  0.282792  11.4531  17.9303   4.8554   \n",
       "1         IM         55.0      0.0  0.000000  16.8683  20.1757   2.3040   \n",
       "2      Other         53.0      0.0  0.000000  25.6941   6.0275   0.0000   \n",
       "3         FM         51.0      0.0  0.000000  20.6320   5.6000   2.9553   \n",
       "4      Other          NaN      0.0  0.000000  35.0081   8.4561   0.0000   \n",
       "\n",
       "    Ignore6  \n",
       "0  0.282792  \n",
       "1  0.000000  \n",
       "2  0.000000  \n",
       "3  0.000000  \n",
       "4  0.000000  "
      ]
     },
     "execution_count": 6,
     "metadata": {},
     "output_type": "execute_result"
    }
   ],
   "source": [
    "data.head()"
   ]
  },
  {
   "cell_type": "code",
   "execution_count": 7,
   "metadata": {
    "scrolled": false
   },
   "outputs": [
    {
     "data": {
      "text/plain": [
       "ID                          float64\n",
       "State                        object\n",
       "Region                      float64\n",
       "Division                    float64\n",
       "Group_Name                  float64\n",
       "MSA_Population_Size         float64\n",
       "GENDER_CODE                 float64\n",
       "PRESUMED_DEAD_FLAG           object\n",
       "Primary_TOP                 float64\n",
       "Primary_PE                  float64\n",
       "Primary_AD                   object\n",
       "Secondary                    object\n",
       "RX_Restriction_Indicator     object\n",
       "customer_id                   int64\n",
       "ID2                           int64\n",
       "MyProd1_Rx                  float64\n",
       "MyProd2_Rx                  float64\n",
       "CompProd1_Rx                float64\n",
       "CompProd2_Rx                float64\n",
       "CompProd3_Rx                float64\n",
       "Age                         float64\n",
       "TOP                           int64\n",
       "PE                            int64\n",
       "SPECIAlITY                   object\n",
       "YrsPractice                 float64\n",
       "Ignore1                     float64\n",
       "Ignore2                     float64\n",
       "Ignore3                     float64\n",
       "Ignore4                     float64\n",
       "Ignore5                     float64\n",
       "Ignore6                     float64\n",
       "dtype: object"
      ]
     },
     "execution_count": 7,
     "metadata": {},
     "output_type": "execute_result"
    }
   ],
   "source": [
    "data.dtypes"
   ]
  },
  {
   "cell_type": "code",
   "execution_count": 8,
   "metadata": {
    "collapsed": true
   },
   "outputs": [],
   "source": [
    "# unique counts\n",
    "def unique_counts(data):\n",
    "    for i in data.columns:\n",
    "        count = data[i].nunique()\n",
    "        print(i, \": \", count)"
   ]
  },
  {
   "cell_type": "code",
   "execution_count": 9,
   "metadata": {
    "scrolled": false
   },
   "outputs": [
    {
     "name": "stdout",
     "output_type": "stream",
     "text": [
      "ID :  34898\n",
      "State :  54\n",
      "Region :  5\n",
      "Division :  10\n",
      "Group_Name :  4\n",
      "MSA_Population_Size :  4\n",
      "GENDER_CODE :  2\n",
      "PRESUMED_DEAD_FLAG :  1\n",
      "Primary_TOP :  11\n",
      "Primary_PE :  18\n",
      "Primary_AD :  131\n",
      "Secondary :  147\n",
      "RX_Restriction_Indicator :  1\n",
      "customer_id :  77247\n",
      "ID2 :  77245\n",
      "MyProd1_Rx :  1440\n",
      "MyProd2_Rx :  1725\n",
      "CompProd1_Rx :  59225\n",
      "CompProd2_Rx :  59647\n",
      "CompProd3_Rx :  37811\n",
      "Age :  65\n",
      "TOP :  3\n",
      "PE :  3\n",
      "SPECIAlITY :  3\n",
      "YrsPractice :  66\n",
      "Ignore1 :  1440\n",
      "Ignore2 :  1725\n",
      "Ignore3 :  59225\n",
      "Ignore4 :  59647\n",
      "Ignore5 :  37811\n",
      "Ignore6 :  2889\n"
     ]
    }
   ],
   "source": [
    "unique_counts(data)"
   ]
  },
  {
   "cell_type": "code",
   "execution_count": 10,
   "metadata": {},
   "outputs": [
    {
     "data": {
      "text/plain": [
       "array([[<matplotlib.axes._subplots.AxesSubplot object at 0x10b1e3c88>,\n",
       "        <matplotlib.axes._subplots.AxesSubplot object at 0x1087a06d8>],\n",
       "       [<matplotlib.axes._subplots.AxesSubplot object at 0x1092c46d8>,\n",
       "        <matplotlib.axes._subplots.AxesSubplot object at 0x10ce0b5f8>]],\n",
       "      dtype=object)"
      ]
     },
     "execution_count": 10,
     "metadata": {},
     "output_type": "execute_result"
    },
    {
     "data": {
      "image/png": "[encoded data removed]",
      "text/plain": [
       "<matplotlib.figure.Figure at 0x1a129bdb70>"
      ]
     },
     "metadata": {},
     "output_type": "display_data"
    }
   ],
   "source": [
    "data[['MyProd1_Rx','MyProd2_Rx','Age','YrsPractice']].hist()"
   ]
  },
  {
   "cell_type": "code",
   "execution_count": 11,
   "metadata": {
    "collapsed": true
   },
   "outputs": [],
   "source": [
    "#####################explore the data - validate data##################################"
   ]
  },
  {
   "cell_type": "code",
   "execution_count": 12,
   "metadata": {
    "collapsed": true
   },
   "outputs": [],
   "source": [
    "#Region,Division,MSA_Poupulation_size,PRIMARY_TOP,PRIMARY_PE,MyProd1_Rx,MyProd2_Rx ,Age, YrsPractice need to be > 0"
   ]
  },
  {
   "cell_type": "code",
   "execution_count": 13,
   "metadata": {
    "collapsed": true
   },
   "outputs": [],
   "source": [
    "validate_features = [\n",
    "    'Region', 'Division', 'MSA_Population_Size', 'Primary_TOP', 'Primary_PE',\n",
    "    'MyProd1_Rx', 'MyProd2_Rx', 'Age', 'YrsPractice'\n",
    "]"
   ]
  },
  {
   "cell_type": "code",
   "execution_count": 14,
   "metadata": {},
   "outputs": [
    {
     "data": {
      "text/plain": [
       "Region                  0.0\n",
       "Division                0.0\n",
       "MSA_Population_Size     1.0\n",
       "Primary_TOP            12.0\n",
       "Primary_PE             11.0\n",
       "MyProd1_Rx              0.0\n",
       "MyProd2_Rx              0.0\n",
       "Age                    30.0\n",
       "YrsPractice             2.0\n",
       "dtype: float64"
      ]
     },
     "execution_count": 14,
     "metadata": {},
     "output_type": "execute_result"
    }
   ],
   "source": [
    "data[validate_features].min()"
   ]
  },
  {
   "cell_type": "code",
   "execution_count": 15,
   "metadata": {
    "collapsed": true
   },
   "outputs": [],
   "source": [
    "#Gender values should be exactly 2--1:Male,2:Female"
   ]
  },
  {
   "cell_type": "code",
   "execution_count": 16,
   "metadata": {},
   "outputs": [
    {
     "data": {
      "text/plain": [
       "array([ 1., nan,  2.])"
      ]
     },
     "execution_count": 16,
     "metadata": {},
     "output_type": "execute_result"
    }
   ],
   "source": [
    "data['GENDER_CODE'].unique()"
   ]
  },
  {
   "cell_type": "code",
   "execution_count": 17,
   "metadata": {},
   "outputs": [
    {
     "name": "stdout",
     "output_type": "stream",
     "text": [
      "-------Percentage of Null values count------\n",
      "ID --> 54.72057167268632\n",
      "State --> 54.73092806193121\n",
      "Region --> 54.725749867308764\n",
      "Division --> 54.725749867308764\n",
      "Group_Name --> 54.72057167268632\n",
      "MSA_Population_Size --> 54.72057167268632\n",
      "GENDER_CODE --> 54.756819035043435\n",
      "PRESUMED_DEAD_FLAG --> 99.99741090268878\n",
      "Primary_TOP --> 54.72057167268632\n",
      "Primary_PE --> 54.72057167268632\n",
      "Primary_AD --> 54.72057167268632\n",
      "Secondary --> 54.72057167268632\n",
      "RX_Restriction_Indicator --> 97.24520046085932\n",
      "customer_id --> 0.0\n",
      "ID2 --> 0.0\n",
      "MyProd1_Rx --> 0.0\n",
      "MyProd2_Rx --> 0.0\n",
      "CompProd1_Rx --> 0.0\n",
      "CompProd2_Rx --> 0.0\n",
      "CompProd3_Rx --> 0.0\n",
      "Age --> 54.72057167268632\n",
      "TOP --> 0.0\n",
      "PE --> 0.0\n",
      "SPECIAlITY --> 0.0\n",
      "YrsPractice --> 54.72057167268632\n",
      "Ignore1 --> 0.0\n",
      "Ignore2 --> 0.0\n",
      "Ignore3 --> 0.0\n",
      "Ignore4 --> 0.0\n",
      "Ignore5 --> 0.0\n",
      "Ignore6 --> 0.0\n"
     ]
    }
   ],
   "source": [
    "print(\"-------Percentage of Null values count------\")\n",
    "for feature in data.columns.values:\n",
    "    print(feature,\"-->\",100*data[feature].isnull().sum()/len(data))"
   ]
  },
  {
   "cell_type": "code",
   "execution_count": 18,
   "metadata": {
    "collapsed": true
   },
   "outputs": [],
   "source": [
    "##here we can see that for 'RX Restriction indicator\"  97% values are null..its better to remove this column for our\n",
    "#feature set\n",
    "data = data.drop('RX_Restriction_Indicator',axis=1)"
   ]
  },
  {
   "cell_type": "code",
   "execution_count": 19,
   "metadata": {
    "collapsed": true
   },
   "outputs": [],
   "source": [
    "#####################explore the data - create new variables that might be useufl###########"
   ]
  },
  {
   "cell_type": "code",
   "execution_count": 20,
   "metadata": {
    "collapsed": true
   },
   "outputs": [],
   "source": [
    "#since we are interested in find out HCP which are selling either product 1 or product 1 or both,\n",
    "#so we can add these prescription to consider one feature only."
   ]
  },
  {
   "cell_type": "code",
   "execution_count": 21,
   "metadata": {
    "collapsed": true
   },
   "outputs": [],
   "source": [
    "data['Rx'] = data['MyProd1_Rx'] + data['MyProd2_Rx']"
   ]
  },
  {
   "cell_type": "code",
   "execution_count": 22,
   "metadata": {},
   "outputs": [],
   "source": [
    "#now we can remove myprod1_rx and myprod2_rx\n",
    "data = data.drop(['MyProd1_Rx','MyProd2_Rx'],axis=1)"
   ]
  },
  {
   "cell_type": "code",
   "execution_count": 23,
   "metadata": {
    "collapsed": true
   },
   "outputs": [],
   "source": [
    "############## clustering ##############"
   ]
  },
  {
   "cell_type": "code",
   "execution_count": 24,
   "metadata": {
    "collapsed": true
   },
   "outputs": [],
   "source": [
    "# Step 1: what are the features I am going to use (that make sense)?\n",
    "# What features may distinguish? based on business sense and exploratory analysis"
   ]
  },
  {
   "cell_type": "code",
   "execution_count": 25,
   "metadata": {
    "collapsed": true
   },
   "outputs": [],
   "source": [
    "features = [\n",
    "    'State', 'Region', 'Division', 'GENDER_CODE', 'Primary_TOP', 'Primary_PE',\n",
    "    'Primary_AD', 'Secondary', 'SPECIAlITY', 'Age', 'YrsPractice', 'Rx'\n",
    "]"
   ]
  },
  {
   "cell_type": "code",
   "execution_count": 26,
   "metadata": {},
   "outputs": [],
   "source": [
    "data = data[['customer_id']+features]"
   ]
  },
  {
   "cell_type": "code",
   "execution_count": 27,
   "metadata": {},
   "outputs": [],
   "source": [
    "# Drop the columns where all elements are nan:\n",
    "# data.dropna(axis=1, how='all',inplace=True)"
   ]
  },
  {
   "cell_type": "code",
   "execution_count": 28,
   "metadata": {
    "collapsed": true
   },
   "outputs": [],
   "source": [
    "#Drop the row and columns where all elements are nan:"
   ]
  },
  {
   "cell_type": "code",
   "execution_count": 29,
   "metadata": {
    "scrolled": true
   },
   "outputs": [],
   "source": [
    "hvd_data = data.dropna(axis=0)[['customer_id'] + features]"
   ]
  },
  {
   "cell_type": "code",
   "execution_count": 30,
   "metadata": {
    "collapsed": true
   },
   "outputs": [],
   "source": [
    "## 0 Rx prescribed docotors will taken in separate cluster in the end\n",
    "hvd_data = hvd_data[hvd_data['Rx']>0].sort_values('Rx')"
   ]
  },
  {
   "cell_type": "code",
   "execution_count": 31,
   "metadata": {
    "scrolled": true
   },
   "outputs": [
    {
     "data": {
      "text/plain": [
       "array(['IL', 'VA', 'GA', 'TN', 'KY', 'AL', 'AR', 'PA', 'FL', 'TX', 'WV',\n",
       "       'NJ', 'MS', 'MD', 'NV', 'CA', 'NC', 'OH', 'NY', 'MO', 'NE', 'SC',\n",
       "       'OK', 'LA', 'CT', 'CO', 'WA', 'UT', 'AZ', 'IN', 'NM', 'DE', 'WI',\n",
       "       'MI', 'KS', 'HI', 'RI', 'IA', 'OR', 'ID', 'MA', 'DC', 'AK', 'SD',\n",
       "       'MN', 'WY'], dtype=object)"
      ]
     },
     "execution_count": 31,
     "metadata": {},
     "output_type": "execute_result"
    }
   ],
   "source": [
    "hvd_data['State'].unique()"
   ]
  },
  {
   "cell_type": "code",
   "execution_count": 32,
   "metadata": {
    "scrolled": true
   },
   "outputs": [],
   "source": [
    "# Step 2: shall I standardise the data?\n",
    "# What is the magnitude of data range?\n",
    "# Only numerical variables needs to be scaled because catagorical variable cannot be scaled"
   ]
  },
  {
   "cell_type": "code",
   "execution_count": 33,
   "metadata": {},
   "outputs": [],
   "source": [
    "num_features = ['Primary_TOP', 'Primary_PE','Age', 'YrsPractice']\n",
    "hvd_std = hvd_data.copy()\n",
    "for i in num_features:\n",
    "#     hvd_std[i] = preprocessing.RobustScaler().fit_transform(hvd_std[[i]])\n",
    "    hvd_std[i] = preprocessing.StandardScaler().fit_transform(hvd_std[[i]])"
   ]
  },
  {
   "cell_type": "code",
   "execution_count": 35,
   "metadata": {
    "scrolled": true
   },
   "outputs": [],
   "source": [
    "# Step 3: select clustering method and number of clusters\n",
    "# K-means?? Ans: no\n",
    "##Since our data is of mixed type..means it have both catogorical and numerical features therefore we cannot use k-means\n",
    "# K-Prototype can used becuase it can take care of both kinds of variables.\n",
    "from kmodes.kprototypes import KPrototypes\n",
    "from matplotlib import style\n",
    "style.use(\"ggplot\")"
   ]
  },
  {
   "cell_type": "code",
   "execution_count": 36,
   "metadata": {},
   "outputs": [],
   "source": [
    "X = hvd_std[hvd_std.columns.values[1:]].values\n",
    "\n",
    "hvd_std['Region'] = hvd_std['Region'].astype('str')\n",
    "hvd_std['Division'] = hvd_std['Division'].astype('str')\n",
    "hvd_std['GENDER_CODE'] = hvd_std['GENDER_CODE'].astype('str')"
   ]
  },
  {
   "cell_type": "code",
   "execution_count": 37,
   "metadata": {},
   "outputs": [
    {
     "data": {
      "text/plain": [
       "customer_id      int64\n",
       "State           object\n",
       "Region          object\n",
       "Division        object\n",
       "GENDER_CODE     object\n",
       "Primary_TOP    float64\n",
       "Primary_PE     float64\n",
       "Primary_AD      object\n",
       "Secondary       object\n",
       "SPECIAlITY      object\n",
       "Age            float64\n",
       "YrsPractice    float64\n",
       "Rx             float64\n",
       "dtype: object"
      ]
     },
     "execution_count": 37,
     "metadata": {},
     "output_type": "execute_result"
    }
   ],
   "source": [
    "hvd_std.dtypes"
   ]
  },
  {
   "cell_type": "code",
   "execution_count": 38,
   "metadata": {},
   "outputs": [],
   "source": [
    "kproto = KPrototypes(n_clusters=3, init='Cao')\n",
    "\n",
    "#here in our alogrithim we have to specify which all columns are catogrical.\n",
    "clusters = kproto.fit_predict(X, categorical=[0,1,2,3,6,7,8])"
   ]
  },
  {
   "cell_type": "code",
   "execution_count": 828,
   "metadata": {},
   "outputs": [],
   "source": [
    "hvd_std['Cluster'] = kproto.labels_"
   ]
  },
  {
   "cell_type": "code",
   "execution_count": 829,
   "metadata": {
    "collapsed": true
   },
   "outputs": [],
   "source": [
    "#Step 4: Dimensionality Reduction ###\n",
    "#Now we want to visualize the data from n diminesiton to 2 dimesion so we have to reduce the dimensionality of the\n",
    "#data..since our data has both categorical and numerical values so we have to use \"facotor analysis for mixed data\" technique \n",
    "#\"Prince\" package has this implementation\n",
    "import prince"
   ]
  },
  {
   "cell_type": "code",
   "execution_count": 830,
   "metadata": {},
   "outputs": [
    {
     "name": "stderr",
     "output_type": "stream",
     "text": [
      "/home/aniketchaudhary/anaconda3/lib/python3.5/site-packages/prince/pca.py:87: SettingWithCopyWarning: \n",
      "A value is trying to be set on a copy of a slice from a DataFrame\n",
      "\n",
      "See the caveats in the documentation: http://pandas.pydata.org/pandas-docs/stable/indexing.html#indexing-view-versus-copy\n",
      "  dataframe.drop(supplementary_row_names, axis='rows', inplace=True)\n",
      "/home/aniketchaudhary/anaconda3/lib/python3.5/site-packages/prince/pca.py:88: SettingWithCopyWarning: \n",
      "A value is trying to be set on a copy of a slice from a DataFrame\n",
      "\n",
      "See the caveats in the documentation: http://pandas.pydata.org/pandas-docs/stable/indexing.html#indexing-view-versus-copy\n",
      "  dataframe.drop(supplementary_column_names, axis='columns', inplace=True)\n",
      "/home/aniketchaudhary/anaconda3/lib/python3.5/site-packages/prince/pca.py:89: SettingWithCopyWarning: \n",
      "A value is trying to be set on a copy of a slice from a DataFrame\n",
      "\n",
      "See the caveats in the documentation: http://pandas.pydata.org/pandas-docs/stable/indexing.html#indexing-view-versus-copy\n",
      "  dataframe.drop(self.categorical_columns.columns, axis='columns', inplace=True)\n"
     ]
    }
   ],
   "source": [
    "pca = prince.PCA(hvd_std[features], n_components=2)\n",
    "\n",
    "\n",
    "pca_components = pca.row_principal_coordinates.rename(columns={0:'Component 1',1:'Component 2'})\n",
    "\n",
    "hvd_std['Component_1'] = pca_components['Component 1'].values\n",
    "hvd_std['Component_2'] = pca_components['Component 2'].values"
   ]
  },
  {
   "cell_type": "code",
   "execution_count": 831,
   "metadata": {
    "scrolled": false
   },
   "outputs": [
    {
     "data": {
      "text/plain": [
       "Text(0.5,1,'Dimensionality Reduction')"
      ]
     },
     "execution_count": 831,
     "metadata": {},
     "output_type": "execute_result"
    },
    {
     "data": {
      "image/png": "[encoded data removed]",
      "text/plain": [
       "<Figure size 960x720 with 1 Axes>"
      ]
     },
     "metadata": {},
     "output_type": "display_data"
    }
   ],
   "source": [
    "plt.scatter(hvd_std['Component_1'],hvd_std['Component_2'],c=hvd_std['Cluster'])\n",
    "plt.xlabel('Component 1')\n",
    "plt.ylabel('Component 2')\n",
    "plt.title('Dimensionality Reduction')"
   ]
  },
  {
   "cell_type": "code",
   "execution_count": 832,
   "metadata": {},
   "outputs": [
    {
     "data": {
      "text/html": [
       "<div>\n",
       "<style scoped>\n",
       "    .dataframe tbody tr th:only-of-type {\n",
       "        vertical-align: middle;\n",
       "    }\n",
       "\n",
       "    .dataframe tbody tr th {\n",
       "        vertical-align: top;\n",
       "    }\n",
       "\n",
       "    .dataframe thead th {\n",
       "        text-align: right;\n",
       "    }\n",
       "</style>\n",
       "<table border=\"1\" class=\"dataframe\">\n",
       "  <thead>\n",
       "    <tr style=\"text-align: right;\">\n",
       "      <th></th>\n",
       "      <th>Cluster</th>\n",
       "      <th>Rx</th>\n",
       "    </tr>\n",
       "  </thead>\n",
       "  <tbody>\n",
       "    <tr>\n",
       "      <th>0</th>\n",
       "      <td>0</td>\n",
       "      <td>0.178888</td>\n",
       "    </tr>\n",
       "    <tr>\n",
       "      <th>1</th>\n",
       "      <td>1</td>\n",
       "      <td>0.183536</td>\n",
       "    </tr>\n",
       "    <tr>\n",
       "      <th>2</th>\n",
       "      <td>2</td>\n",
       "      <td>0.193880</td>\n",
       "    </tr>\n",
       "  </tbody>\n",
       "</table>\n",
       "</div>"
      ],
      "text/plain": [
       "   Cluster        Rx\n",
       "0        0  0.178888\n",
       "1        1  0.183536\n",
       "2        2  0.193880"
      ]
     },
     "execution_count": 832,
     "metadata": {},
     "output_type": "execute_result"
    }
   ],
   "source": [
    "# Step 5: profile the clusters\n",
    "hvd_std.groupby('Cluster')['Rx'].mean().reset_index()"
   ]
  },
  {
   "cell_type": "code",
   "execution_count": 833,
   "metadata": {
    "scrolled": true
   },
   "outputs": [],
   "source": [
    "#to maximize lisa's returns the customers can be grouped via Rx average value\n",
    "####Cluster 2 is for Super High \n",
    "####Cluster 1 is for High\n",
    "####Cluster 0 is for Medium\n",
    "\n",
    "##before feeding the data to K-prototype we separated data into Rx>0 and  Rx=0.\n",
    "##customers who have prescribed Rx as 0 can be made as Cluster which is 'Low'"
   ]
  },
  {
   "cell_type": "code",
   "execution_count": null,
   "metadata": {
    "collapsed": true
   },
   "outputs": [],
   "source": []
  },
  {
   "cell_type": "code",
   "execution_count": null,
   "metadata": {
    "collapsed": true
   },
   "outputs": [],
   "source": []
  },
  {
   "cell_type": "code",
   "execution_count": null,
   "metadata": {
    "collapsed": true
   },
   "outputs": [],
   "source": []
  },
  {
   "cell_type": "code",
   "execution_count": null,
   "metadata": {
    "collapsed": true
   },
   "outputs": [],
   "source": []
  }
 ],
 "metadata": {
  "kernelspec": {
   "display_name": "Python 3",
   "language": "python",
   "name": "python3"
  },
  "language_info": {
   "codemirror_mode": {
    "name": "ipython",
    "version": 3
   },
   "file_extension": ".py",
   "mimetype": "text/x-python",
   "name": "python",
   "nbconvert_exporter": "python",
   "pygments_lexer": "ipython3",
   "version": "3.6.3"
  },
  "toc": {
   "nav_menu": {},
   "number_sections": true,
   "sideBar": true,
   "skip_h1_title": false,
   "toc_cell": false,
   "toc_position": {},
   "toc_section_display": "block",
   "toc_window_display": false
  }
 },
 "nbformat": 4,
 "nbformat_minor": 2
}
